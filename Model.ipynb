{
 "cells": [
  {
   "cell_type": "markdown",
   "metadata": {},
   "source": [
    "# 1.020 2D Project Term 3 2021\n",
    "\n",
    "Group: One (1)\n",
    "\n",
    "Class: SC05\n",
    "\n",
    "Names in alphabetical order\n",
    "* 1005347 Abigail Tan Juan Hong\n",
    "* 1005002 Lawrence Kevin Sagaya Anthony\n",
    "* 1004881 Lin Yutian\n",
    "* 1005051 Mohammad Alif Daffa Bin Mohammad Yusof\n",
    "* 1004210 Pyae Phyo Aung @ Elvis Kason Lin\n",
    "\n",
    "Everyone contributed to the project equally."
   ]
  },
  {
   "cell_type": "markdown",
   "metadata": {},
   "source": [
    "___"
   ]
  },
  {
   "cell_type": "markdown",
   "metadata": {},
   "source": [
    "# Part I: Preprocessing"
   ]
  },
  {
   "cell_type": "code",
   "execution_count": 108,
   "metadata": {},
   "outputs": [],
   "source": [
    "# Import libraries\n",
    "\n",
    "import pandas as pd\n",
    "import numpy as np\n",
    "import seaborn as sns\n",
    "import matplotlib.pyplot as plt"
   ]
  },
  {
   "cell_type": "markdown",
   "metadata": {},
   "source": [
    "# Part 2 — Modelling X"
   ]
  },
  {
   "cell_type": "markdown",
   "metadata": {},
   "source": [
    "## Problem statement\n",
    "Singapore has been pushing for an endemic strategy of living with the virus. However, it is clear that the necessary regulations are stll needed to ensure that the healthcare system can cope with the ongoing surge in cases, and to allow new healthcare protocols to stabilise. In the current preparatory stage of its reopening, and will continue to rely on vaccination and testing to keep the Covid-19 situation under control, amid a recent spike in infections. We are to help the government to make a model to predict the number of daily cases based on the stringency-index of the current measures and all other useful predictors found. As a reference, the government can use this model to see how feasible their next steps of reopening and incoming measures are while ensuring the capacity of the healthcare system under the current vaccination, testing and infection situations.  "
   ]
  },
  {
   "cell_type": "markdown",
   "metadata": {},
   "source": [
    "## Data Processing\n",
    "#####  Link to data sources:\n",
    "  * https://github.com/owid/covid-19-data/tree/master/public/data\n",
    "  * Covid-19 dataset (a collection of the covid-19 data worldwide) maintained by the our world in data team\n",
    "\n",
    "#####  Choose the useful data records from the dataset with the worldwide covid-related data:\n",
    "  * Step 1: Target at the data records of Singapore since the environment of our defind problem is Singapore. \n",
    "  * Step 2: As the vaccinations are available to the public from the beginning of 2021 (the first vaccination data is found at 11/01/2021), the data records we used are all after 11/01/2021.  \n",
    "  * Step 3: To the convenince of our defined problem, we extract all the data records of Singapore after 11/01/2021 to a new 'csv' file (filename: covid_data_singapore.csv)."
   ]
  },
  {
   "cell_type": "code",
   "execution_count": 109,
   "metadata": {
    "scrolled": true
   },
   "outputs": [
    {
     "data": {
      "text/html": [
       "<div>\n",
       "<style scoped>\n",
       "    .dataframe tbody tr th:only-of-type {\n",
       "        vertical-align: middle;\n",
       "    }\n",
       "\n",
       "    .dataframe tbody tr th {\n",
       "        vertical-align: top;\n",
       "    }\n",
       "\n",
       "    .dataframe thead th {\n",
       "        text-align: right;\n",
       "    }\n",
       "</style>\n",
       "<table border=\"1\" class=\"dataframe\">\n",
       "  <thead>\n",
       "    <tr style=\"text-align: right;\">\n",
       "      <th></th>\n",
       "      <th>Unnamed: 0</th>\n",
       "      <th>iso_code</th>\n",
       "      <th>continent</th>\n",
       "      <th>location</th>\n",
       "      <th>date</th>\n",
       "      <th>total_cases</th>\n",
       "      <th>new_cases</th>\n",
       "      <th>new_cases_smoothed</th>\n",
       "      <th>total_deaths</th>\n",
       "      <th>new_deaths</th>\n",
       "      <th>...</th>\n",
       "      <th>female_smokers</th>\n",
       "      <th>male_smokers</th>\n",
       "      <th>handwashing_facilities</th>\n",
       "      <th>hospital_beds_per_thousand</th>\n",
       "      <th>life_expectancy</th>\n",
       "      <th>human_development_index</th>\n",
       "      <th>excess_mortality_cumulative_absolute</th>\n",
       "      <th>excess_mortality_cumulative</th>\n",
       "      <th>excess_mortality</th>\n",
       "      <th>excess_mortality_cumulative_per_million</th>\n",
       "    </tr>\n",
       "  </thead>\n",
       "  <tbody>\n",
       "    <tr>\n",
       "      <th>0</th>\n",
       "      <td>0</td>\n",
       "      <td>SGP</td>\n",
       "      <td>Asia</td>\n",
       "      <td>Singapore</td>\n",
       "      <td>2021-01-11</td>\n",
       "      <td>58929</td>\n",
       "      <td>22</td>\n",
       "      <td>29.714</td>\n",
       "      <td>29</td>\n",
       "      <td>0</td>\n",
       "      <td>...</td>\n",
       "      <td>5.2</td>\n",
       "      <td>28.3</td>\n",
       "      <td>NaN</td>\n",
       "      <td>2.4</td>\n",
       "      <td>83.62</td>\n",
       "      <td>0.938</td>\n",
       "      <td>NaN</td>\n",
       "      <td>NaN</td>\n",
       "      <td>NaN</td>\n",
       "      <td>NaN</td>\n",
       "    </tr>\n",
       "    <tr>\n",
       "      <th>1</th>\n",
       "      <td>1</td>\n",
       "      <td>SGP</td>\n",
       "      <td>Asia</td>\n",
       "      <td>Singapore</td>\n",
       "      <td>2021-01-12</td>\n",
       "      <td>58946</td>\n",
       "      <td>17</td>\n",
       "      <td>28.143</td>\n",
       "      <td>29</td>\n",
       "      <td>0</td>\n",
       "      <td>...</td>\n",
       "      <td>5.2</td>\n",
       "      <td>28.3</td>\n",
       "      <td>NaN</td>\n",
       "      <td>2.4</td>\n",
       "      <td>83.62</td>\n",
       "      <td>0.938</td>\n",
       "      <td>NaN</td>\n",
       "      <td>NaN</td>\n",
       "      <td>NaN</td>\n",
       "      <td>NaN</td>\n",
       "    </tr>\n",
       "    <tr>\n",
       "      <th>2</th>\n",
       "      <td>2</td>\n",
       "      <td>SGP</td>\n",
       "      <td>Asia</td>\n",
       "      <td>Singapore</td>\n",
       "      <td>2021-01-13</td>\n",
       "      <td>58984</td>\n",
       "      <td>38</td>\n",
       "      <td>29.143</td>\n",
       "      <td>29</td>\n",
       "      <td>0</td>\n",
       "      <td>...</td>\n",
       "      <td>5.2</td>\n",
       "      <td>28.3</td>\n",
       "      <td>NaN</td>\n",
       "      <td>2.4</td>\n",
       "      <td>83.62</td>\n",
       "      <td>0.938</td>\n",
       "      <td>NaN</td>\n",
       "      <td>NaN</td>\n",
       "      <td>NaN</td>\n",
       "      <td>NaN</td>\n",
       "    </tr>\n",
       "    <tr>\n",
       "      <th>3</th>\n",
       "      <td>3</td>\n",
       "      <td>SGP</td>\n",
       "      <td>Asia</td>\n",
       "      <td>Singapore</td>\n",
       "      <td>2021-01-14</td>\n",
       "      <td>59029</td>\n",
       "      <td>45</td>\n",
       "      <td>30.857</td>\n",
       "      <td>29</td>\n",
       "      <td>0</td>\n",
       "      <td>...</td>\n",
       "      <td>5.2</td>\n",
       "      <td>28.3</td>\n",
       "      <td>NaN</td>\n",
       "      <td>2.4</td>\n",
       "      <td>83.62</td>\n",
       "      <td>0.938</td>\n",
       "      <td>NaN</td>\n",
       "      <td>NaN</td>\n",
       "      <td>NaN</td>\n",
       "      <td>NaN</td>\n",
       "    </tr>\n",
       "    <tr>\n",
       "      <th>4</th>\n",
       "      <td>4</td>\n",
       "      <td>SGP</td>\n",
       "      <td>Asia</td>\n",
       "      <td>Singapore</td>\n",
       "      <td>2021-01-15</td>\n",
       "      <td>59059</td>\n",
       "      <td>30</td>\n",
       "      <td>31.857</td>\n",
       "      <td>29</td>\n",
       "      <td>0</td>\n",
       "      <td>...</td>\n",
       "      <td>5.2</td>\n",
       "      <td>28.3</td>\n",
       "      <td>NaN</td>\n",
       "      <td>2.4</td>\n",
       "      <td>83.62</td>\n",
       "      <td>0.938</td>\n",
       "      <td>NaN</td>\n",
       "      <td>NaN</td>\n",
       "      <td>NaN</td>\n",
       "      <td>NaN</td>\n",
       "    </tr>\n",
       "    <tr>\n",
       "      <th>...</th>\n",
       "      <td>...</td>\n",
       "      <td>...</td>\n",
       "      <td>...</td>\n",
       "      <td>...</td>\n",
       "      <td>...</td>\n",
       "      <td>...</td>\n",
       "      <td>...</td>\n",
       "      <td>...</td>\n",
       "      <td>...</td>\n",
       "      <td>...</td>\n",
       "      <td>...</td>\n",
       "      <td>...</td>\n",
       "      <td>...</td>\n",
       "      <td>...</td>\n",
       "      <td>...</td>\n",
       "      <td>...</td>\n",
       "      <td>...</td>\n",
       "      <td>...</td>\n",
       "      <td>...</td>\n",
       "      <td>...</td>\n",
       "      <td>...</td>\n",
       "    </tr>\n",
       "    <tr>\n",
       "      <th>285</th>\n",
       "      <td>285</td>\n",
       "      <td>SGP</td>\n",
       "      <td>Asia</td>\n",
       "      <td>Singapore</td>\n",
       "      <td>2021-10-23</td>\n",
       "      <td>169261</td>\n",
       "      <td>3598</td>\n",
       "      <td>3448.714</td>\n",
       "      <td>300</td>\n",
       "      <td>6</td>\n",
       "      <td>...</td>\n",
       "      <td>5.2</td>\n",
       "      <td>28.3</td>\n",
       "      <td>NaN</td>\n",
       "      <td>2.4</td>\n",
       "      <td>83.62</td>\n",
       "      <td>0.938</td>\n",
       "      <td>NaN</td>\n",
       "      <td>NaN</td>\n",
       "      <td>NaN</td>\n",
       "      <td>NaN</td>\n",
       "    </tr>\n",
       "    <tr>\n",
       "      <th>286</th>\n",
       "      <td>286</td>\n",
       "      <td>SGP</td>\n",
       "      <td>Asia</td>\n",
       "      <td>Singapore</td>\n",
       "      <td>2021-10-24</td>\n",
       "      <td>172644</td>\n",
       "      <td>3383</td>\n",
       "      <td>3495.143</td>\n",
       "      <td>315</td>\n",
       "      <td>15</td>\n",
       "      <td>...</td>\n",
       "      <td>5.2</td>\n",
       "      <td>28.3</td>\n",
       "      <td>NaN</td>\n",
       "      <td>2.4</td>\n",
       "      <td>83.62</td>\n",
       "      <td>0.938</td>\n",
       "      <td>NaN</td>\n",
       "      <td>NaN</td>\n",
       "      <td>NaN</td>\n",
       "      <td>NaN</td>\n",
       "    </tr>\n",
       "    <tr>\n",
       "      <th>287</th>\n",
       "      <td>287</td>\n",
       "      <td>SGP</td>\n",
       "      <td>Asia</td>\n",
       "      <td>Singapore</td>\n",
       "      <td>2021-10-25</td>\n",
       "      <td>175818</td>\n",
       "      <td>3174</td>\n",
       "      <td>3583.857</td>\n",
       "      <td>329</td>\n",
       "      <td>14</td>\n",
       "      <td>...</td>\n",
       "      <td>5.2</td>\n",
       "      <td>28.3</td>\n",
       "      <td>NaN</td>\n",
       "      <td>2.4</td>\n",
       "      <td>83.62</td>\n",
       "      <td>0.938</td>\n",
       "      <td>NaN</td>\n",
       "      <td>NaN</td>\n",
       "      <td>NaN</td>\n",
       "      <td>NaN</td>\n",
       "    </tr>\n",
       "    <tr>\n",
       "      <th>288</th>\n",
       "      <td>288</td>\n",
       "      <td>SGP</td>\n",
       "      <td>Asia</td>\n",
       "      <td>Singapore</td>\n",
       "      <td>2021-10-26</td>\n",
       "      <td>179095</td>\n",
       "      <td>3277</td>\n",
       "      <td>3481.429</td>\n",
       "      <td>339</td>\n",
       "      <td>10</td>\n",
       "      <td>...</td>\n",
       "      <td>5.2</td>\n",
       "      <td>28.3</td>\n",
       "      <td>NaN</td>\n",
       "      <td>2.4</td>\n",
       "      <td>83.62</td>\n",
       "      <td>0.938</td>\n",
       "      <td>NaN</td>\n",
       "      <td>NaN</td>\n",
       "      <td>NaN</td>\n",
       "      <td>NaN</td>\n",
       "    </tr>\n",
       "    <tr>\n",
       "      <th>289</th>\n",
       "      <td>289</td>\n",
       "      <td>SGP</td>\n",
       "      <td>Asia</td>\n",
       "      <td>Singapore</td>\n",
       "      <td>2021-10-27</td>\n",
       "      <td>184419</td>\n",
       "      <td>5324</td>\n",
       "      <td>3690.286</td>\n",
       "      <td>349</td>\n",
       "      <td>10</td>\n",
       "      <td>...</td>\n",
       "      <td>5.2</td>\n",
       "      <td>28.3</td>\n",
       "      <td>NaN</td>\n",
       "      <td>2.4</td>\n",
       "      <td>83.62</td>\n",
       "      <td>0.938</td>\n",
       "      <td>NaN</td>\n",
       "      <td>NaN</td>\n",
       "      <td>NaN</td>\n",
       "      <td>NaN</td>\n",
       "    </tr>\n",
       "  </tbody>\n",
       "</table>\n",
       "<p>290 rows × 66 columns</p>\n",
       "</div>"
      ],
      "text/plain": [
       "     Unnamed: 0 iso_code continent   location        date  total_cases  \\\n",
       "0             0      SGP      Asia  Singapore  2021-01-11        58929   \n",
       "1             1      SGP      Asia  Singapore  2021-01-12        58946   \n",
       "2             2      SGP      Asia  Singapore  2021-01-13        58984   \n",
       "3             3      SGP      Asia  Singapore  2021-01-14        59029   \n",
       "4             4      SGP      Asia  Singapore  2021-01-15        59059   \n",
       "..          ...      ...       ...        ...         ...          ...   \n",
       "285         285      SGP      Asia  Singapore  2021-10-23       169261   \n",
       "286         286      SGP      Asia  Singapore  2021-10-24       172644   \n",
       "287         287      SGP      Asia  Singapore  2021-10-25       175818   \n",
       "288         288      SGP      Asia  Singapore  2021-10-26       179095   \n",
       "289         289      SGP      Asia  Singapore  2021-10-27       184419   \n",
       "\n",
       "     new_cases  new_cases_smoothed  total_deaths  new_deaths  ...  \\\n",
       "0           22              29.714            29           0  ...   \n",
       "1           17              28.143            29           0  ...   \n",
       "2           38              29.143            29           0  ...   \n",
       "3           45              30.857            29           0  ...   \n",
       "4           30              31.857            29           0  ...   \n",
       "..         ...                 ...           ...         ...  ...   \n",
       "285       3598            3448.714           300           6  ...   \n",
       "286       3383            3495.143           315          15  ...   \n",
       "287       3174            3583.857           329          14  ...   \n",
       "288       3277            3481.429           339          10  ...   \n",
       "289       5324            3690.286           349          10  ...   \n",
       "\n",
       "     female_smokers  male_smokers  handwashing_facilities  \\\n",
       "0               5.2          28.3                     NaN   \n",
       "1               5.2          28.3                     NaN   \n",
       "2               5.2          28.3                     NaN   \n",
       "3               5.2          28.3                     NaN   \n",
       "4               5.2          28.3                     NaN   \n",
       "..              ...           ...                     ...   \n",
       "285             5.2          28.3                     NaN   \n",
       "286             5.2          28.3                     NaN   \n",
       "287             5.2          28.3                     NaN   \n",
       "288             5.2          28.3                     NaN   \n",
       "289             5.2          28.3                     NaN   \n",
       "\n",
       "     hospital_beds_per_thousand  life_expectancy  human_development_index  \\\n",
       "0                           2.4            83.62                    0.938   \n",
       "1                           2.4            83.62                    0.938   \n",
       "2                           2.4            83.62                    0.938   \n",
       "3                           2.4            83.62                    0.938   \n",
       "4                           2.4            83.62                    0.938   \n",
       "..                          ...              ...                      ...   \n",
       "285                         2.4            83.62                    0.938   \n",
       "286                         2.4            83.62                    0.938   \n",
       "287                         2.4            83.62                    0.938   \n",
       "288                         2.4            83.62                    0.938   \n",
       "289                         2.4            83.62                    0.938   \n",
       "\n",
       "     excess_mortality_cumulative_absolute  excess_mortality_cumulative  \\\n",
       "0                                     NaN                          NaN   \n",
       "1                                     NaN                          NaN   \n",
       "2                                     NaN                          NaN   \n",
       "3                                     NaN                          NaN   \n",
       "4                                     NaN                          NaN   \n",
       "..                                    ...                          ...   \n",
       "285                                   NaN                          NaN   \n",
       "286                                   NaN                          NaN   \n",
       "287                                   NaN                          NaN   \n",
       "288                                   NaN                          NaN   \n",
       "289                                   NaN                          NaN   \n",
       "\n",
       "     excess_mortality  excess_mortality_cumulative_per_million  \n",
       "0                 NaN                                      NaN  \n",
       "1                 NaN                                      NaN  \n",
       "2                 NaN                                      NaN  \n",
       "3                 NaN                                      NaN  \n",
       "4                 NaN                                      NaN  \n",
       "..                ...                                      ...  \n",
       "285               NaN                                      NaN  \n",
       "286               NaN                                      NaN  \n",
       "287               NaN                                      NaN  \n",
       "288               NaN                                      NaN  \n",
       "289               NaN                                      NaN  \n",
       "\n",
       "[290 rows x 66 columns]"
      ]
     },
     "metadata": {},
     "output_type": "display_data"
    }
   ],
   "source": [
    "# read the csv file of covid-related data of Singapore from 11/01/2021 to 27/10/2021.\n",
    "df = pd.read_csv(\"covid_data_singapore.csv\")\n",
    "display(df)"
   ]
  },
  {
   "cell_type": "markdown",
   "metadata": {},
   "source": [
    "##### Choose the approriate predictors -- Experiment:\n",
    "* Target: The number of daily cases (the column named \"new_cases\" in the data frame.\n",
    "* Step 1: Recall the purpose of our model. Since the purpose is to see how feasible the next loosen measures are, it is necessary to consider the \"stringency_index\" of the current measures as an important predictor. \n",
    "* Step 2: Brainstorm the relevant variables which will effect the target \"the number of daily cases\". Potential predictors: \"total_vaccinations\", \"people_fully_vaccinated\", \"people_vaccinated\", \"new_tests_smoothed\", \"total_cases\".\n",
    "* Step 3: Normalize the data of these potential predictors and plot the scatter plot of the target abd each potential predictor respectively. \n",
    "* Step 4: Calculate the correlations of each scatter plot.\n",
    "* Step 5: Analyse and compare these potential predictors."
   ]
  },
  {
   "cell_type": "code",
   "execution_count": 110,
   "metadata": {},
   "outputs": [],
   "source": [
    "# The function is used to normalize the feature using z normalization and record the mean and std used.\n",
    "def normalize_z(df):\n",
    "    dfout = df.copy()\n",
    "    mean = df.mean(axis = 0)\n",
    "    std = df.std(axis = 0)\n",
    "    dfout = (df - mean) / std\n",
    "    return dfout, mean, std\n",
    "\n",
    "# The function is used to get features and targets for our training and testing cases.\n",
    "def get_features_targets(df, feature_names, target_names):\n",
    "    df_feature = df[feature_names]\n",
    "    df_target = df[target_names]\n",
    "    return df_feature, df_target"
   ]
  },
  {
   "cell_type": "code",
   "execution_count": 111,
   "metadata": {},
   "outputs": [],
   "source": [
    "sns.set()\n",
    "# The chosen predictor variables\n",
    "potential_predictors = [\"total_vaccinations\", \"people_fully_vaccinated\", \"people_vaccinated\", \"new_tests_smoothed\", \"total_cases\", \"stringency_index\"]\n",
    "# get the potential features and targets from data frame\n",
    "df_potential_features, df_target = get_features_targets(df, potential_predictors, [\"new_cases\"])\n",
    "# normalize the potential predictors using z normalization\n",
    "df_potential_features = normalize_z(df_potential_features)[0]"
   ]
  },
  {
   "cell_type": "code",
   "execution_count": 116,
   "metadata": {
    "scrolled": true
   },
   "outputs": [
    {
     "name": "stdout",
     "output_type": "stream",
     "text": [
      "Correlation: -0.2229096540666373\n"
     ]
    },
    {
     "data": {
      "image/png": "[encoded data removed]",
      "text/plain": [
       "<Figure size 432x288 with 1 Axes>"
      ]
     },
     "metadata": {},
     "output_type": "display_data"
    }
   ],
   "source": [
    "# Plot the data using scatter plot to see the relationship between stringency_index of the measures and daily_cases\n",
    "plt.scatter(df_potential_features['stringency_index'], df_target)\n",
    "ax = plt.gca()\n",
    "ax.set_title(\"'new_cases' vs 'stringency_index'\")\n",
    "print(\"Correlation:\", df_target['new_cases'].corr(df_potential_features['stringency_index']))"
   ]
  },
  {
   "cell_type": "code",
   "execution_count": 117,
   "metadata": {},
   "outputs": [
    {
     "name": "stdout",
     "output_type": "stream",
     "text": [
      "Correlation: 0.9510126539760535\n"
     ]
    },
    {
     "data": {
      "image/png": "[encoded data removed]",
      "text/plain": [
       "<Figure size 432x288 with 1 Axes>"
      ]
     },
     "metadata": {},
     "output_type": "display_data"
    }
   ],
   "source": [
    "# Plot the data using scatter plot to see the relationship between the number of total_cases and daily_cases\n",
    "plt.scatter(df_potential_features['total_cases'], df_target)\n",
    "ax = plt.gca()\n",
    "ax.set_title(\"'new_cases' vs 'total_cases'\")\n",
    "print(\"Correlation:\", df_target['new_cases'].corr(df_potential_features['total_cases']))"
   ]
  },
  {
   "cell_type": "code",
   "execution_count": 118,
   "metadata": {},
   "outputs": [
    {
     "name": "stdout",
     "output_type": "stream",
     "text": [
      "Correlation: -0.05070475679907711\n"
     ]
    },
    {
     "data": {
      "image/png": "[encoded data removed]",
      "text/plain": [
       "<Figure size 432x288 with 1 Axes>"
      ]
     },
     "metadata": {},
     "output_type": "display_data"
    }
   ],
   "source": [
    "# Plot the data using scatter plot to see the relationship between the number of daily tests provided and daily_cases\n",
    "plt.scatter(df_potential_features['new_tests_smoothed'], df_target)\n",
    "ax = plt.gca()\n",
    "ax.set_title(\"'new_cases' vs 'new_tests_smoothed'\")\n",
    "print(\"Correlation:\", df_target['new_cases'].corr(df_potential_features['new_tests_smoothed']))"
   ]
  },
  {
   "cell_type": "code",
   "execution_count": 119,
   "metadata": {},
   "outputs": [
    {
     "name": "stdout",
     "output_type": "stream",
     "text": [
      "Correlation: 0.5844910636491097\n"
     ]
    },
    {
     "data": {
      "image/png": "[encoded data removed]",
      "text/plain": [
       "<Figure size 432x288 with 1 Axes>"
      ]
     },
     "metadata": {},
     "output_type": "display_data"
    }
   ],
   "source": [
    "# Plot the data using scatter plot to see the relationship between the number of total_vaccinations and daily_cases\n",
    "plt.scatter(df_potential_features['total_vaccinations'], df_target)\n",
    "ax = plt.gca()\n",
    "ax.set_title(\"'new_cases' vs 'total_vaccinations'\")\n",
    "print(\"Correlation:\", df_target['new_cases'].corr(df_potential_features['total_vaccinations']))"
   ]
  },
  {
   "cell_type": "code",
   "execution_count": 120,
   "metadata": {},
   "outputs": [
    {
     "name": "stdout",
     "output_type": "stream",
     "text": [
      "Correlation: 0.45152731209218233\n"
     ]
    },
    {
     "data": {
      "image/png": "[encoded data removed]",
      "text/plain": [
       "<Figure size 432x288 with 1 Axes>"
      ]
     },
     "metadata": {},
     "output_type": "display_data"
    }
   ],
   "source": [
    "# Plot the data using scatter plot to see the relationship between the number of daily tests provided and daily_cases\n",
    "plt.scatter(df_potential_features['people_vaccinated'], df_target)\n",
    "ax = plt.gca()\n",
    "ax.set_title(\"'new_cases' vs 'people_vaccinated'\")\n",
    "print(\"Correlation:\", df_target['new_cases'].corr(df_potential_features['people_vaccinated']))"
   ]
  },
  {
   "cell_type": "code",
   "execution_count": 121,
   "metadata": {},
   "outputs": [
    {
     "name": "stdout",
     "output_type": "stream",
     "text": [
      "Correlation: 0.5830263432433892\n"
     ]
    },
    {
     "data": {
      "image/png": "[encoded data removed]",
      "text/plain": [
       "<Figure size 432x288 with 1 Axes>"
      ]
     },
     "metadata": {},
     "output_type": "display_data"
    }
   ],
   "source": [
    "# Plot the data using scatter plot to see the relationship between the number of daily tests provided and daily_cases\n",
    "plt.scatter(df_potential_features['people_fully_vaccinated'], df_target)\n",
    "ax = plt.gca()\n",
    "ax.set_title(\"'new_cases' vs 'people_fully_vaccinated'\")\n",
    "print(\"Correlation:\", df_target['new_cases'].corr(df_potential_features['people_fully_vaccinated']))"
   ]
  },
  {
   "cell_type": "markdown",
   "metadata": {},
   "source": [
    "##### Choose the approriate predictors -- Analysis:\n",
    "Correlation coefficients (range: [-1, 1]) are used to measure the strength of the linear relationship between two variables and a larger absolute value of the correlation coefficient indicates a stronger relationship between them. \n",
    "\n",
    "By the correlation coefficients and visualization, we found:\n",
    "* The number of daily new cases and the number of total cases so far have a strong linear relationship since the corellation coefficient is around 0.95. Thus, the feature \"total_cases\" can a leading predictor in our model.\n",
    "* The plots of the three potential features \"total_vaccinations\", \"people_fully_vaccinated\", \"people_vaccinated\" are so similar and the meaning of these three features are almost the same. Thus, we decide to keep the feature \"total_vaccinations\" whose data is almost complete for the target dates in the dataset and the correlation coefficient is higher compared with the other two features.\n",
    "* Moreover, the absolute values of the correlation coefficients of some features like \"new_tests_smoothed\" and \"stringency_index\" are relatively low. However, it is hard to tell whether they will contribute to the model. Thus, we will keep these potential predictors first to see their effects on the model by the iterative experiments later and do the corrsponding changes. \n",
    "\n",
    "Therefore, for now, four features \"total_cases\", \"stringency_index\", \"new_tests_smoothed\" and \"total_vaccinations\" will be accounted into our model. However, since the accuracy of our model is closely related to the choice of predictors, changes will be made in the iterative process of experiments according to the training result using diffent sets of predictors chosen from the current four potential predictors.  "
   ]
  },
  {
   "cell_type": "code",
   "execution_count": 73,
   "metadata": {},
   "outputs": [],
   "source": [
    "full_feature_columns = [\"total_vaccinations\", \"new_tests_smoothed\", \"total_cases\", \"stringency_index\"]"
   ]
  },
  {
   "cell_type": "markdown",
   "metadata": {},
   "source": [
    "##### Clean up the data:\n",
    "  * Step 1: Remove outliers. There are three records of which the daily cases ('new_cases') are 0. After checking manually, these three important outliers are considered to be caused by data entry errors. Thus, we removed these three records.\n",
    "  * Step 2: Handle missing data. There are some missing data for the number of total vaccinations. We notice that there is a column named \"new_vaccinations_smoothed\" which can help produce a complete series of daily figures averaged over a rolling 7-day window. By adding this number to the last number of total vaccinations, we conpensate for the missing data for the number of total vaccinations manually. "
   ]
  },
  {
   "cell_type": "code",
   "execution_count": 74,
   "metadata": {},
   "outputs": [
    {
     "name": "stdout",
     "output_type": "stream",
     "text": [
      "(287, 66)\n"
     ]
    }
   ],
   "source": [
    "# Remove the outliers (of which the daily cases are 0).\n",
    "df = df[df['new_cases'] != 0]\n",
    "print(df.shape)"
   ]
  },
  {
   "cell_type": "markdown",
   "metadata": {},
   "source": [
    "## Model and Iteration"
   ]
  },
  {
   "cell_type": "markdown",
   "metadata": {},
   "source": [
    "##### Choose the algorithm\n",
    "* Multiple linear regression\n",
    "* Reason: \n",
    "    * In this model we want to include more than one feature and we want to have a hypothesis that is not a simple line.   \n",
    "    * Based on the analysis of these features in the process of choosing the features, we can find that some features have a relatively strong linear relationship with the target.\n",
    "    "
   ]
  },
  {
   "cell_type": "markdown",
   "metadata": {},
   "source": [
    "##### General idea of  improvement by iterations:\n",
    "* The addition of unnecessary regressor variables will add noise. However some models are too simple to explain the relationship well. \n",
    "* Find which does better, the subset model or the full model.\n",
    "    * A full model: a model considering all of the predictors\n",
    "    * A subset model: a model after dropping one or more predictors\n",
    "* Select the subset of predictors that do the best of all the candidate predictors.\n",
    "\n",
    "NOTE: Based on our problem statement, the feature \"stringency_index\" will always be included."
   ]
  },
  {
   "cell_type": "markdown",
   "metadata": {},
   "source": [
    "##### Criteria for selecting the best models:\n",
    "* Smallest mean absolute error\n",
    "* Reason:\n",
    "    * The metric of R-squared can never be used to choose the best subset of predictors, since the value of R^2 increases with the increase in the number of predictors no matther whether the added predictors add any value to the model. \n",
    "    * The target values (the number of daily covid-19 cases) vary from the single digits to thousands so that the errors will also be relatively larger when the actual target values are large. Thus, it is not suitable to use the mean square error (MSE) since MSE penalizes large errors.\n",
    "    * By conparison, MAE is the relatively better choice. It can help us understand the errors  intuitively."
   ]
  },
  {
   "cell_type": "code",
   "execution_count": 75,
   "metadata": {},
   "outputs": [],
   "source": [
    "# This function is used to split the dataset into training and testing based on the given test_size.\n",
    "def split_data(df_feature, df_target, random_state=None, test_size=0.5):\n",
    "    indexes = df_feature.index\n",
    "    if random_state != None:\n",
    "        np.random.seed(random_state)\n",
    "    k = int(test_size * len(indexes))\n",
    "    test_index = np.random.choice(indexes, k, replace=False)\n",
    "    indexes = set(indexes)\n",
    "    test_index = set(test_index)\n",
    "    train_index = indexes - test_index\n",
    "    df_feature_train = df_feature.loc[train_index, :]\n",
    "    df_feature_test = df_feature.loc[test_index, :]\n",
    "    df_target_train = df_target.loc[train_index, :]\n",
    "    df_target_test = df_target.loc[test_index, :]\n",
    "    return df_feature_train, df_feature_test, df_target_train, df_target_test\n",
    "\n",
    "# The function is used to normalize the feature using z normalization and record the mean and std used.\n",
    "def normalize_z(df):\n",
    "    dfout = df.copy()\n",
    "    mean = df.mean(axis = 0)\n",
    "    std = df.std(axis = 0)\n",
    "    dfout = (df - mean) / std\n",
    "    return dfout, mean, std\n",
    "\n",
    "# This function is to convert the data frame to a numpy array and add a column of constant 1s in the first column.\n",
    "def prepare_feature(df_feature):\n",
    "    cols = len(df_feature.columns)\n",
    "    feature = df_feature.to_numpy().reshape(-1, cols)\n",
    "    X = np.concatenate((np.ones((feature.shape[0], 1)), feature), axis = 1)\n",
    "    return X\n",
    "\n",
    "# The function is to convert the data frame to a numpy array and change it into column vectors.\n",
    "def prepare_target(df_target):\n",
    "    cols = len(df_target.columns)\n",
    "    target = df_target.to_numpy().reshape(-1, cols)\n",
    "    return target"
   ]
  },
  {
   "cell_type": "code",
   "execution_count": 76,
   "metadata": {},
   "outputs": [],
   "source": [
    "# The function is used to compute the cost\n",
    "def compute_cost(X, y, beta):\n",
    "    m = X.shape[0]\n",
    "    error = np.matmul(X, beta) - y\n",
    "    error_sq = np.matmul(error.T, error)\n",
    "    J = (1/(2*m)) * error_sq\n",
    "    return J[0][0]\n",
    "\n",
    "# The function is used to calculate the mean absolute error between the predicted and actual values.\n",
    "def mean_absolute_error(X, y, beta):\n",
    "    return np.sum(np.abs(X@beta - y)) / X.shape[0]\n",
    "\n",
    "# The function is to find the beta to minimize the cost.\n",
    "# It will return the the absolute error between the predicted and actual target, the percentage of the absolute error, beta and the costs in the iteration.\n",
    "def gradient_descent(X, y, beta, alpha, num_iters):\n",
    "    J_storage = np.ones((num_iters, 1))\n",
    "    err_storage = []\n",
    "    m = X.shape[0]\n",
    "    for i in range(num_iters):\n",
    "        error = np.matmul(X, beta) - y\n",
    "        driv = np.matmul(X.T, error)\n",
    "        beta = beta - (alpha/m)*driv\n",
    "        J = compute_cost(X, y, beta)\n",
    "        J_storage[i] = J\n",
    "        err_storage.append(mean_absolute_error(X, y, beta))\n",
    "    return err_storage, beta, J_storage"
   ]
  },
  {
   "cell_type": "markdown",
   "metadata": {},
   "source": [
    "##### Experiment 1 \n",
    "* Predictor subset 1: {\"stringency_index\"} "
   ]
  },
  {
   "cell_type": "code",
   "execution_count": 77,
   "metadata": {},
   "outputs": [
    {
     "name": "stdout",
     "output_type": "stream",
     "text": [
      "MAE: 573.4251068567393\n"
     ]
    },
    {
     "data": {
      "text/plain": [
       "[<matplotlib.lines.Line2D at 0x1a23b2f0b8>]"
      ]
     },
     "execution_count": 77,
     "metadata": {},
     "output_type": "execute_result"
    },
    {
     "data": {
      "image/png": "[encoded data removed]",
      "text/plain": [
       "<Figure size 432x288 with 1 Axes>"
      ]
     },
     "metadata": {},
     "output_type": "display_data"
    }
   ],
   "source": [
    "predictor_subset = ['stringency_index']\n",
    "\n",
    "# get the features and targets from data frame\n",
    "df_features, df_target = get_features_targets(df, predictor_subset, [\"new_cases\"])\n",
    "\n",
    "# Split the data set into training and test\n",
    "df_features_train, df_features_test, df_target_train, df_target_test = split_data(df_features, df_target, random_state=100, test_size=0.3)\n",
    "\n",
    "# Normalize using z normalization\n",
    "df_features_train_z = normalize_z(df_features_train)[0]\n",
    "\n",
    "# Prepare X and y\n",
    "X = prepare_feature(df_features_train_z)\n",
    "y = prepare_target(df_target_train)\n",
    "\n",
    "iterations = 1500\n",
    "alpha = 0.01\n",
    "beta = np.zeros((len(predictor_subset)+1, 1))\n",
    "\n",
    "# call the gradient_descent function\n",
    "mae_storage, beta, J_storage = gradient_descent(X, y, beta, alpha, iterations)\n",
    "print('MAE:', mae_storage[-1])\n",
    "# Visualize the mean absolute error in the process of iteration\n",
    "plt.plot(mae_storage)"
   ]
  },
  {
   "cell_type": "code",
   "execution_count": 78,
   "metadata": {},
   "outputs": [
    {
     "data": {
      "text/plain": [
       "[<matplotlib.lines.Line2D at 0x1a23b85d30>]"
      ]
     },
     "execution_count": 78,
     "metadata": {},
     "output_type": "execute_result"
    },
    {
     "data": {
      "image/png": "[encoded data removed]",
      "text/plain": [
       "<Figure size 432x288 with 1 Axes>"
      ]
     },
     "metadata": {},
     "output_type": "display_data"
    }
   ],
   "source": [
    "plt.plot(J_storage)"
   ]
  },
  {
   "cell_type": "markdown",
   "metadata": {},
   "source": [
    "##### Experiment 2\n",
    "* Predictor subset 2: {\"stringency_index\", \"total_cases\"} "
   ]
  },
  {
   "cell_type": "code",
   "execution_count": 79,
   "metadata": {},
   "outputs": [
    {
     "name": "stdout",
     "output_type": "stream",
     "text": [
      "MAE: 132.27105055508386\n",
      "Beta: [[391.87551073]\n",
      " [-27.96792106]\n",
      " [892.15221115]]\n"
     ]
    },
    {
     "data": {
      "text/plain": [
       "[<matplotlib.lines.Line2D at 0x1a23c68e10>]"
      ]
     },
     "execution_count": 79,
     "metadata": {},
     "output_type": "execute_result"
    },
    {
     "data": {
      "image/png": "[encoded data removed]",
      "text/plain": [
       "<Figure size 432x288 with 1 Axes>"
      ]
     },
     "metadata": {},
     "output_type": "display_data"
    }
   ],
   "source": [
    "predictor_subset = ['stringency_index', 'total_cases']\n",
    "\n",
    "# get the features and targets from data frame\n",
    "df_features, df_target = get_features_targets(df, predictor_subset, [\"new_cases\"])\n",
    "\n",
    "# Split the data set into training and test\n",
    "df_features_train, df_features_test, df_target_train, df_target_test = split_data(df_features, df_target, random_state=100, test_size=0.3)\n",
    "\n",
    "# Normalize using z normalization\n",
    "df_features_train_z = normalize_z(df_features_train)[0]\n",
    "\n",
    "# Prepare X and y\n",
    "X = prepare_feature(df_features_train_z)\n",
    "y = prepare_target(df_target_train)\n",
    "\n",
    "iterations = 1500\n",
    "alpha = 0.01\n",
    "beta = np.zeros((len(predictor_subset)+1, 1))\n",
    "\n",
    "# call the gradient_descent function\n",
    "mae_storage, beta, J_storage = gradient_descent(X, y, beta, alpha, iterations)\n",
    "print('MAE:', mae_storage[-1])\n",
    "print('Beta:', beta)\n",
    "# Visualize the mean absolute error in the process of iteration\n",
    "plt.plot(mae_storage)"
   ]
  },
  {
   "cell_type": "markdown",
   "metadata": {},
   "source": [
    "##### Experiment 3\n",
    "* Predictor subset 3: {\"stringency_index\", \"total_vaccinations\"} "
   ]
  },
  {
   "cell_type": "code",
   "execution_count": 80,
   "metadata": {},
   "outputs": [
    {
     "name": "stdout",
     "output_type": "stream",
     "text": [
      "MAE: 480.7557671719157\n"
     ]
    },
    {
     "data": {
      "text/plain": [
       "[<matplotlib.lines.Line2D at 0x1a23cceba8>]"
      ]
     },
     "execution_count": 80,
     "metadata": {},
     "output_type": "execute_result"
    },
    {
     "data": {
      "image/png": "[encoded data removed]",
      "text/plain": [
       "<Figure size 432x288 with 1 Axes>"
      ]
     },
     "metadata": {},
     "output_type": "display_data"
    }
   ],
   "source": [
    "predictor_subset = ['stringency_index', 'total_vaccinations']\n",
    "\n",
    "# get the features and targets from data frame\n",
    "df_features, df_target = get_features_targets(df, predictor_subset, [\"new_cases\"])\n",
    "\n",
    "# Split the data set into training and test\n",
    "df_features_train, df_features_test, df_target_train, df_target_test = split_data(df_features, df_target, random_state=100, test_size=0.3)\n",
    "\n",
    "# Normalize using z normalization\n",
    "df_features_train_z = normalize_z(df_features_train)[0]\n",
    "\n",
    "# Prepare X and y\n",
    "X = prepare_feature(df_features_train_z)\n",
    "y = prepare_target(df_target_train)\n",
    "\n",
    "iterations = 1500\n",
    "alpha = 0.01\n",
    "beta = np.zeros((len(predictor_subset)+1, 1))\n",
    "\n",
    "# call the gradient_descent function\n",
    "mae_storage, beta, J_storage = gradient_descent(X, y, beta, alpha, iterations)\n",
    "print('MAE:', mae_storage[-1])\n",
    "# Visualize the mean absolute error in the process of iteration\n",
    "plt.plot(mae_storage)"
   ]
  },
  {
   "cell_type": "markdown",
   "metadata": {},
   "source": [
    "##### Experiment 4\n",
    "* Predictor subset 4: {\"stringency_index\", \"new_tests_smoothed\"} "
   ]
  },
  {
   "cell_type": "code",
   "execution_count": 81,
   "metadata": {},
   "outputs": [
    {
     "name": "stdout",
     "output_type": "stream",
     "text": [
      "MAE: 572.7371141714203\n"
     ]
    },
    {
     "data": {
      "text/plain": [
       "[<matplotlib.lines.Line2D at 0x1a23e0bf28>]"
      ]
     },
     "execution_count": 81,
     "metadata": {},
     "output_type": "execute_result"
    },
    {
     "data": {
      "image/png": "[encoded data removed]",
      "text/plain": [
       "<Figure size 432x288 with 1 Axes>"
      ]
     },
     "metadata": {},
     "output_type": "display_data"
    }
   ],
   "source": [
    "predictor_subset = ['stringency_index', 'new_tests_smoothed']\n",
    "\n",
    "# get the features and targets from data frame\n",
    "df_features, df_target = get_features_targets(df, predictor_subset, [\"new_cases\"])\n",
    "\n",
    "# Split the data set into training and test\n",
    "df_features_train, df_features_test, df_target_train, df_target_test = split_data(df_features, df_target, random_state=100, test_size=0.3)\n",
    "\n",
    "# Normalize using z normalization\n",
    "df_features_train_z = normalize_z(df_features_train)[0]\n",
    "\n",
    "# Prepare X and y\n",
    "X = prepare_feature(df_features_train_z)\n",
    "y = prepare_target(df_target_train)\n",
    "\n",
    "iterations = 1500\n",
    "alpha = 0.01\n",
    "beta = np.zeros((len(predictor_subset)+1, 1))\n",
    "\n",
    "# call the gradient_descent function\n",
    "mae_storage, beta, J_storage = gradient_descent(X, y, beta, alpha, iterations)\n",
    "print('MAE:', mae_storage[-1])\n",
    "# Visualize the mean absolute error in the process of iteration\n",
    "plt.plot(mae_storage)"
   ]
  },
  {
   "cell_type": "markdown",
   "metadata": {},
   "source": [
    "##### Experiment 5\n",
    "* Predictor subset 5: {\"stringency_index\", \"total_vaccinations\", \"new_tests_smoothed\"} "
   ]
  },
  {
   "cell_type": "code",
   "execution_count": 82,
   "metadata": {},
   "outputs": [
    {
     "name": "stdout",
     "output_type": "stream",
     "text": [
      "MAE: 471.0175465462134\n"
     ]
    },
    {
     "data": {
      "text/plain": [
       "[<matplotlib.lines.Line2D at 0x1a239de400>]"
      ]
     },
     "execution_count": 82,
     "metadata": {},
     "output_type": "execute_result"
    },
    {
     "data": {
      "image/png": "[encoded data removed]",
      "text/plain": [
       "<Figure size 432x288 with 1 Axes>"
      ]
     },
     "metadata": {},
     "output_type": "display_data"
    }
   ],
   "source": [
    "predictor_subset = ['stringency_index', 'total_vaccinations', \"new_tests_smoothed\"]\n",
    "\n",
    "# get the features and targets from data frame\n",
    "df_features, df_target = get_features_targets(df, predictor_subset, [\"new_cases\"])\n",
    "\n",
    "# Split the data set into training and test\n",
    "df_features_train, df_features_test, df_target_train, df_target_test = split_data(df_features, df_target, random_state=100, test_size=0.3)\n",
    "\n",
    "# Normalize using z normalization\n",
    "df_features_train_z = normalize_z(df_features_train)[0]\n",
    "\n",
    "# Prepare X and y\n",
    "X = prepare_feature(df_features_train_z)\n",
    "y = prepare_target(df_target_train)\n",
    "\n",
    "iterations = 1500\n",
    "alpha = 0.01\n",
    "beta = np.zeros((len(predictor_subset)+1, 1))\n",
    "\n",
    "# call the gradient_descent function\n",
    "mae_storage, beta, J_storage = gradient_descent(X, y, beta, alpha, iterations)\n",
    "print('MAE:', mae_storage[-1])\n",
    "# Visualize the mean absolute error in the process of iteration\n",
    "plt.plot(mae_storage)"
   ]
  },
  {
   "cell_type": "markdown",
   "metadata": {},
   "source": [
    "##### Experiment 6\n",
    "* Predictor subset 6: {\"stringency_index\", \"total_vaccinations\", \"total_cases\"} "
   ]
  },
  {
   "cell_type": "code",
   "execution_count": 83,
   "metadata": {},
   "outputs": [
    {
     "name": "stdout",
     "output_type": "stream",
     "text": [
      "MAE: 143.89080906815855\n"
     ]
    },
    {
     "data": {
      "text/plain": [
       "[<matplotlib.lines.Line2D at 0x1a238e0630>]"
      ]
     },
     "execution_count": 83,
     "metadata": {},
     "output_type": "execute_result"
    },
    {
     "data": {
      "image/png": "[encoded data removed]",
      "text/plain": [
       "<Figure size 432x288 with 1 Axes>"
      ]
     },
     "metadata": {},
     "output_type": "display_data"
    }
   ],
   "source": [
    "predictor_subset = ['stringency_index', 'total_vaccinations', 'total_cases']\n",
    "\n",
    "# get the features and targets from data frame\n",
    "df_features, df_target = get_features_targets(df, predictor_subset, [\"new_cases\"])\n",
    "\n",
    "# Split the data set into training and test\n",
    "df_features_train, df_features_test, df_target_train, df_target_test = split_data(df_features, df_target, random_state=100, test_size=0.3)\n",
    "\n",
    "# Normalize using z normalization\n",
    "df_features_train_z = normalize_z(df_features_train)[0]\n",
    "\n",
    "# Prepare X and y\n",
    "X = prepare_feature(df_features_train_z)\n",
    "y = prepare_target(df_target_train)\n",
    "\n",
    "iterations = 1500\n",
    "alpha = 0.01\n",
    "beta = np.zeros((len(predictor_subset)+1, 1))\n",
    "\n",
    "# call the gradient_descent function\n",
    "mae_storage, beta, J_storage = gradient_descent(X, y, beta, alpha, iterations)\n",
    "print('MAE:', mae_storage[-1])\n",
    "# Visualize the mean absolute error in the process of iteration\n",
    "plt.plot(mae_storage)"
   ]
  },
  {
   "cell_type": "markdown",
   "metadata": {},
   "source": [
    "##### Experiment 7\n",
    "* Predictor subset 7: {\"stringency_index\", \"total_cases\", \"new_tests_smoothed\"} "
   ]
  },
  {
   "cell_type": "code",
   "execution_count": 84,
   "metadata": {},
   "outputs": [
    {
     "name": "stdout",
     "output_type": "stream",
     "text": [
      "MAE: 150.66746202998857\n"
     ]
    },
    {
     "data": {
      "text/plain": [
       "[<matplotlib.lines.Line2D at 0x1a232c43c8>]"
      ]
     },
     "execution_count": 84,
     "metadata": {},
     "output_type": "execute_result"
    },
    {
     "data": {
      "image/png": "[encoded data removed]",
      "text/plain": [
       "<Figure size 432x288 with 1 Axes>"
      ]
     },
     "metadata": {},
     "output_type": "display_data"
    }
   ],
   "source": [
    "predictor_subset = ['stringency_index', 'total_cases', 'new_tests_smoothed']\n",
    "\n",
    "# get the features and targets from data frame\n",
    "df_features, df_target = get_features_targets(df, predictor_subset, [\"new_cases\"])\n",
    "\n",
    "# Split the data set into training and test\n",
    "df_features_train, df_features_test, df_target_train, df_target_test = split_data(df_features, df_target, random_state=100, test_size=0.3)\n",
    "\n",
    "# Normalize using z normalization\n",
    "df_features_train_z = normalize_z(df_features_train)[0]\n",
    "\n",
    "# Prepare X and y\n",
    "X = prepare_feature(df_features_train_z)\n",
    "y = prepare_target(df_target_train)\n",
    "\n",
    "iterations = 1500\n",
    "alpha = 0.01\n",
    "beta = np.zeros((len(predictor_subset)+1, 1))\n",
    "\n",
    "# call the gradient_descent function\n",
    "mae_storage, beta, J_storage = gradient_descent(X, y, beta, alpha, iterations)\n",
    "print('MAE:', mae_storage[-1])\n",
    "# Visualize the mean absolute error in the process of iteration\n",
    "plt.plot(mae_storage)"
   ]
  },
  {
   "cell_type": "markdown",
   "metadata": {},
   "source": [
    "##### Experiment 8\n",
    "* Predictor subset 8 ( full set ): {\"stringency_index\", \"total_cases\", \"new_tests_smoothed\", \"total_vaccinations\"} "
   ]
  },
  {
   "cell_type": "code",
   "execution_count": 85,
   "metadata": {},
   "outputs": [
    {
     "name": "stdout",
     "output_type": "stream",
     "text": [
      "MAE: 150.9440184221978\n"
     ]
    },
    {
     "data": {
      "text/plain": [
       "[<matplotlib.lines.Line2D at 0x1a23e73630>]"
      ]
     },
     "execution_count": 85,
     "metadata": {},
     "output_type": "execute_result"
    },
    {
     "data": {
      "image/png": "[encoded data removed]",
      "text/plain": [
       "<Figure size 432x288 with 1 Axes>"
      ]
     },
     "metadata": {},
     "output_type": "display_data"
    }
   ],
   "source": [
    "predictor_subset = [\"stringency_index\", \"total_cases\", \"new_tests_smoothed\", \"total_vaccinations\"]\n",
    "\n",
    "# get the features and targets from data frame\n",
    "df_features, df_target = get_features_targets(df, predictor_subset, [\"new_cases\"])\n",
    "\n",
    "# Split the data set into training and test\n",
    "df_features_train, df_features_test, df_target_train, df_target_test = split_data(df_features, df_target, random_state=100, test_size=0.3)\n",
    "\n",
    "# Normalize using z normalization\n",
    "df_features_train_z = normalize_z(df_features_train)[0]\n",
    "\n",
    "# Prepare X and y\n",
    "X = prepare_feature(df_features_train_z)\n",
    "y = prepare_target(df_target_train)\n",
    "\n",
    "iterations = 1500\n",
    "alpha = 0.01\n",
    "beta = np.zeros((len(predictor_subset)+1, 1))\n",
    "\n",
    "# call the gradient_descent function\n",
    "mae_storage, beta, J_storage = gradient_descent(X, y, beta, alpha, iterations)\n",
    "print('MAE:', mae_storage[-1])\n",
    "# Visualize the mean absolute error in the process of iteration\n",
    "plt.plot(mae_storage)"
   ]
  },
  {
   "cell_type": "markdown",
   "metadata": {},
   "source": [
    "##### Analysis of the experiments\n",
    "* The lowest MAE is found in the experiment 2 using the two predictors \"total_cases\" and \"stringency_index\". The features \"new_cases_smoothed\" and \"total_vaccinations\" are adding the noises to the model.\n",
    "* It can be easily deduced from the experiments' results that the feature \"total_cases\" is the leading predictor in this model.\n",
    "    * This discovery corresponds to our pre-analysis of the data in the last section. The high correlation coefficient of \"total_cases\" with the target indicates their strong linear relatioship.\n",
    "* Based on the above discovery, we are worried that whether the feature \"stringency_index\" also make more noises in the model, but we ignored the noises made by it since it is always included based on our define problem. Thus, we perform another experiment using the feature \"total_cases\" only to see whether the MAE will be smaller than which we get in the experiment 2. If so, sadly it means the stringency of the regualtions doesn't effect the daily cases and our defined problem needs to be reconsidered.\n",
    "* Luckily, based on the result of the extra experiment below, the feature \"stringency_index\" contributes to our model indeedly. "
   ]
  },
  {
   "cell_type": "code",
   "execution_count": 86,
   "metadata": {},
   "outputs": [
    {
     "name": "stdout",
     "output_type": "stream",
     "text": [
      "MAE: 138.62021943581388\n"
     ]
    },
    {
     "data": {
      "text/plain": [
       "[<matplotlib.lines.Line2D at 0x1a23389c88>]"
      ]
     },
     "execution_count": 86,
     "metadata": {},
     "output_type": "execute_result"
    },
    {
     "data": {
      "image/png": "[encoded data removed]",
      "text/plain": [
       "<Figure size 432x288 with 1 Axes>"
      ]
     },
     "metadata": {},
     "output_type": "display_data"
    }
   ],
   "source": [
    "# Extra experiment to test whether \"stringency_index\" contributes to the model\n",
    "# The only predictor: {\"total_cases\"}\n",
    "\n",
    "predictor_subset = ['total_cases']\n",
    "\n",
    "# get the features and targets from data frame\n",
    "df_features, df_target = get_features_targets(df, predictor_subset, [\"new_cases\"])\n",
    "\n",
    "# Split the data set into training and test\n",
    "df_features_train, df_features_test, df_target_train, df_target_test = split_data(df_features, df_target, random_state=100, test_size=0.3)\n",
    "\n",
    "# Normalize using z normalization\n",
    "df_features_train_z = normalize_z(df_features_train)[0]\n",
    "\n",
    "# Prepare X and y\n",
    "X = prepare_feature(df_features_train_z)\n",
    "y = prepare_target(df_target_train)\n",
    "\n",
    "iterations = 1500\n",
    "alpha = 0.01\n",
    "beta = np.zeros((len(predictor_subset)+1, 1))\n",
    "\n",
    "# call the gradient_descent function\n",
    "mae_storage, beta, J_storage = gradient_descent(X, y, beta, alpha, iterations)\n",
    "print('MAE:', mae_storage[-1])\n",
    "# Visualize the mean absolute error in the process of iteration\n",
    "plt.plot(mae_storage)"
   ]
  },
  {
   "cell_type": "markdown",
   "metadata": {},
   "source": [
    "##### Selection of model\n",
    "Therefore, we could decide the model we use.\n",
    "* Algorithm: Multiple Linear Regression\n",
    "* Predictors: \"total_cases\"(the number of total cases so far) and \"stringency_index\" (the stringency of the regulations)\n",
    "* Target: \"new_cases\" (the number of daily cases)\n",
    "* y = 391.87551073 - 27.96792106 x1 + 892.15221115 x2 \n",
    "    * x1: \"stringency_index\", x2: \"total_cases\"\n",
    "    * Here, the coefficient of the feature \"stringency_index\" is negative. This corresponds to our pre-analysis of the data in the last section. The correlation coefficient of stringency_index with the target calculated in the \"data\" section is negative. It indicates that the feature \"stringency_index\" has a negative relationship with the target."
   ]
  },
  {
   "cell_type": "code",
   "execution_count": 92,
   "metadata": {},
   "outputs": [
    {
     "name": "stdout",
     "output_type": "stream",
     "text": [
      "MAE: 132.27105055508386\n",
      "Beta: [[391.87551073]\n",
      " [-27.96792106]\n",
      " [892.15221115]]\n"
     ]
    },
    {
     "data": {
      "text/plain": [
       "[<matplotlib.lines.Line2D at 0x1a23735c18>]"
      ]
     },
     "execution_count": 92,
     "metadata": {},
     "output_type": "execute_result"
    },
    {
     "data": {
      "image/png": "[encoded data removed]",
      "text/plain": [
       "<Figure size 432x288 with 1 Axes>"
      ]
     },
     "metadata": {},
     "output_type": "display_data"
    }
   ],
   "source": [
    "final_predictors = [\"stringency_index\", \"total_cases\"]\n",
    "\n",
    "# get the features and targets from data frame\n",
    "df_features, df_target = get_features_targets(df, final_predictors, [\"new_cases\"])\n",
    "\n",
    "# Split the data set into training and test\n",
    "df_features_train, df_features_test, df_target_train, df_target_test = split_data(df_features, df_target, random_state=100, test_size=0.3)\n",
    "\n",
    "# Normalize using z normalization\n",
    "df_features_train_z, traing_features_mean, training_features_std = normalize_z(df_features_train)\n",
    "\n",
    "# Prepare X and y\n",
    "X = prepare_feature(df_features_train_z)\n",
    "y = prepare_target(df_target_train)\n",
    "\n",
    "iterations = 1500\n",
    "alpha = 0.01\n",
    "beta = np.zeros((len(final_predictors)+1, 1))\n",
    "\n",
    "# call the gradient_descent function\n",
    "mae_storage, beta, J_storage = gradient_descent(X, y, beta, alpha, iterations)\n",
    "print('MAE:', mae_storage[-1])\n",
    "print('Beta:', beta)\n",
    "# Visualize the mean absolute error in the process of iteration\n",
    "plt.plot(mae_storage)"
   ]
  },
  {
   "cell_type": "markdown",
   "metadata": {},
   "source": [
    "## Model Evaluation"
   ]
  },
  {
   "cell_type": "markdown",
   "metadata": {},
   "source": [
    "##### Get and visualize the predicted values\n",
    "* To get the predicted values, we perform some different operations from what is taught in class on the normalization of the features in the testing set. We reused the mean and standard deviation of the features in the training set when normalizing the features in the testing set, rather than applying a different scaling on the training set from the testing set by performing z-normalization on themselves separately.  \n",
    "    * Reference: https://datascience.stackexchange.com/questions/27615/should-we-apply-normalization-to-test-data-as-well\n",
    "    * The exact scaling should be applied on the features in the testing set as the training set. It means that the mean and standard deviation used to normalize the features in the training set should be stored and reused in the normalization of the features in the testing set. "
   ]
  },
  {
   "cell_type": "code",
   "execution_count": 93,
   "metadata": {},
   "outputs": [],
   "source": [
    "# The function is used to normalize the feature using z normalization and record the mean and std used.\n",
    "def normalize_z(df):\n",
    "    dfout = df.copy()\n",
    "    mean = df.mean(axis = 0)\n",
    "    std = df.std(axis = 0)\n",
    "    dfout = (df - mean) / std\n",
    "    return dfout, mean, std\n",
    "\n",
    "# The fuction is used to normalize the features in the testing set using the same mean and std as the training set\n",
    "def normalize_testing_features(df, mean, std):\n",
    "    dfout = df.copy()\n",
    "    dfout = (df - mean) / std\n",
    "    return dfout\n",
    "\n",
    "# normalize the features in the testing set and get the predicted daily cases given the features in the testing sets \n",
    "def predict(df_feature, beta):\n",
    "    X = prepare_feature(df_features_test)\n",
    "    return predict_norm(X, beta)\n",
    "\n",
    "# get the predicted daily cases given the features in the testing sets \n",
    "def predict_norm(X, beta):\n",
    "    return np.matmul(X, beta)"
   ]
  },
  {
   "cell_type": "code",
   "execution_count": 94,
   "metadata": {},
   "outputs": [],
   "source": [
    "# get the mean and standard deviation used in the z-normalization of the testing set\n",
    "testing_features_mean = training_features_mean.to_numpy()\n",
    "testing_features_std = training_features_std.to_numpy()\n",
    "\n",
    "# normalize the features in the testing set using the same mean and std as the training set\n",
    "df_features_test = normalize_testing_features(df_features_test, mean, std)\n",
    "\n",
    "# call the predict() method to get the predicted values of the testing set\n",
    "pred = predict(df_features_test, beta)"
   ]
  },
  {
   "cell_type": "code",
   "execution_count": 95,
   "metadata": {},
   "outputs": [
    {
     "data": {
      "text/plain": [
       "<matplotlib.collections.PathCollection at 0x1a2350bcc0>"
      ]
     },
     "execution_count": 95,
     "metadata": {},
     "output_type": "execute_result"
    },
    {
     "data": {
      "image/png": "[encoded data removed]",
      "text/plain": [
       "<Figure size 432x288 with 1 Axes>"
      ]
     },
     "metadata": {},
     "output_type": "display_data"
    }
   ],
   "source": [
    "# visualize compare the predicted targets with the actual targets \n",
    "plt.scatter(df_features_test[\"stringency_index\"], df_target_test)\n",
    "plt.scatter(df_features_test[\"stringency_index\"], pred)"
   ]
  },
  {
   "cell_type": "code",
   "execution_count": 96,
   "metadata": {},
   "outputs": [
    {
     "data": {
      "text/plain": [
       "<matplotlib.collections.PathCollection at 0x1a2356aef0>"
      ]
     },
     "execution_count": 96,
     "metadata": {},
     "output_type": "execute_result"
    },
    {
     "data": {
      "image/png": "[encoded data removed]",
      "text/plain": [
       "<Figure size 432x288 with 1 Axes>"
      ]
     },
     "metadata": {},
     "output_type": "display_data"
    }
   ],
   "source": [
    "# visualize and compare the predicted targets with the actual targets \n",
    "plt.scatter(df_features_test[\"total_cases\"], df_target_test)\n",
    "plt.scatter(df_features_test[\"total_cases\"], pred)"
   ]
  },
  {
   "cell_type": "markdown",
   "metadata": {},
   "source": [
    "##### Metrics for the testing set\n",
    "* R-squared value\n",
    "* Mean Absolute Error (MAE)\n",
    "* Reason: \n",
    "    * The target values (the number of daily covid-19 cases) vary from the single digits to thousands so that the errors will also be relatively larger when the actual target values are large. Thus, it is not suitable to use the mean square error (MSE) since MSE penalizes large errors.\n",
    "    * R-aquared metric measures the strength of the relationship between the model and the dependent variables. Thus, when evaluating the accuracy of our model, it is good to use this metric to see how strong the relationship is between our model and chosen predictors.\n",
    "    * MAE is the average of the absolute difference between the trget value and he value predicted. MAE is sensitive to the the outliers but it does not penalize large errors. In our cases, the outliers are not prominent. Thus, it is a good metric for our model."
   ]
  },
  {
   "cell_type": "code",
   "execution_count": 97,
   "metadata": {},
   "outputs": [],
   "source": [
    "# The function is to calculate the r^2 as a metric\n",
    "def r2_score(y, ypred):\n",
    "    y_mean = np.mean(y) \n",
    "    # ss_tot = np.sum((y-y_mean)**2)\n",
    "    ss_tot = np.matmul((y-y_mean).T, y-y_mean)\n",
    "    ss_res = np.matmul((y-ypred).T, y-ypred)\n",
    "    r2 = 1-ss_res/ss_tot\n",
    "    return r2[0][0]\n",
    "\n",
    "# The function is used to calculate the mean absolute error between the predicted and actual values.\n",
    "def m_a_e(target, pred):\n",
    "    return np.sum(np.abs(pred - target)) / target.shape[0]"
   ]
  },
  {
   "cell_type": "code",
   "execution_count": 98,
   "metadata": {},
   "outputs": [
    {
     "name": "stdout",
     "output_type": "stream",
     "text": [
      "r^2: 0.8984290504908874\n",
      "MAE: 172.72767805308902\n"
     ]
    }
   ],
   "source": [
    "# change target test set to a numpy array\n",
    "target = prepare_target(df_target_test)\n",
    "\n",
    "# calculate r2 score by calling a function\n",
    "r2 = r2_score(target, pred)\n",
    "\n",
    "# calculate the mean absolute error by calling a function\n",
    "mae = m_a_e(target, pred)\n",
    "\n",
    "print('r^2:', r2)\n",
    "print('MAE:', mae)"
   ]
  },
  {
   "cell_type": "markdown",
   "metadata": {},
   "source": [
    "##### Analysis of the results"
   ]
  },
  {
   "cell_type": "markdown",
   "metadata": {},
   "source": [
    "* R-Squared: \n",
    "    * It indicates how well the regression model fits the observed data.\n",
    "    * The value of R-squared for the testing set is around 0.9 which reveals that 90% of the data fit our regression model. \n",
    "    * Thus, it can be deduced that our model is not either underfit or overfit.\n",
    "* Mean Absolute Error:\n",
    "    * It indicates the average difference between the actual and predicted values.\n",
    "    * The value of MAE for the testing is around 172.7. It means that if the number of today's cases is 2000, it is very likely that the prediction is between 1827 and 2172. The error percentage is only around 8% which can be accepted when predicting the daily cases in practical. "
   ]
  },
  {
   "cell_type": "markdown",
   "metadata": {},
   "source": [
    "### Conclusion\n",
    "* Through our model, it can be seen that the vaccination rate and the number of tests provided do not effect the number of daily cases much. This does not mean that vaccinations and regular tests are useless, since having a very weak relationship with the number of daily cases does not mean having little influence of the probability of being infected.  \n",
    "* To predict the daily cases, the stringency of the current measures and the trend of total cases confirmed will be more useful. \n",
    "* Thus, if the government wants to use this model as a reference to see how bold a reopen measure can be in the case of ensuring a controllable number of confirmed cases and the healthcare system under the current situation, they can provide the data which shows the trend of the total cases and keep adjusting the stringency index of their expected measures until the predicted value reaches their expectation.  "
   ]
  }
 ],
 "metadata": {
  "kernelspec": {
   "display_name": "Python 3",
   "language": "python",
   "name": "python3"
  },
  "language_info": {
   "codemirror_mode": {
    "name": "ipython",
    "version": 3
   },
   "file_extension": ".py",
   "mimetype": "text/x-python",
   "name": "python",
   "nbconvert_exporter": "python",
   "pygments_lexer": "ipython3",
   "version": "3.7.3"
  }
 },
 "nbformat": 4,
 "nbformat_minor": 5
}
